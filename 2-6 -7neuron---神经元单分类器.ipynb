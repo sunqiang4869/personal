{
 "cells": [
  {
   "cell_type": "code",
   "execution_count": 1,
   "metadata": {},
   "outputs": [
    {
     "name": "stdout",
     "output_type": "stream",
     "text": [
      "['data_batch_1', 'readme.html', 'batches.meta', 'data_batch_2', 'data_batch_5', 'test_batch', 'data_batch_4', 'data_batch_3']\n"
     ]
    }
   ],
   "source": [
    "import tensorflow as tf \n",
    "import os\n",
    "import pickle\n",
    "import numpy as np\n",
    "\n",
    "CIFAR_DIR = './cifar-10-batches-py/'\n",
    "print(os.listdir(CIFAR_DIR))"
   ]
  },
  {
   "cell_type": "code",
   "execution_count": 2,
   "metadata": {},
   "outputs": [
    {
     "name": "stdout",
     "output_type": "stream",
     "text": [
      "(10000, 3072)\n",
      "(10000,)\n",
      "(2000, 3072)\n",
      "(2000,)\n"
     ]
    },
    {
     "data": {
      "text/plain": [
       "'----确认是可以正常工作的--------'"
      ]
     },
     "execution_count": 2,
     "metadata": {},
     "output_type": "execute_result"
    }
   ],
   "source": [
    "def load_data(filename):\n",
    "    '''read data from the file'''\n",
    "    with open(filename, 'rb') as f:\n",
    "        data = pickle.load(f,encoding='bytes')\n",
    "        return data[b'data'], data[b'labels']\n",
    "    \n",
    "#先到了sess.run（）发现数据传进来不是很合适，需要写数据处理方面的一些方法\n",
    "'''可以去看Tensorflow.Dataset的API'''\n",
    "class  CifarData: \n",
    "    def __init__(self, filenames, need_shuffle):\n",
    "        all_data = []\n",
    "        all_label = []\n",
    "        for filename in filenames:\n",
    "            data, labels = load_data(filename)\n",
    "            '''少用一个for循环'''\n",
    "            for item, label in zip(data,labels):\n",
    "                if  label in [0,1]:\n",
    "                    all_data.append(item)\n",
    "                    all_label.append(label)\n",
    "        #item是从data中来，data是矩阵，item就是向量，纵向合并起来把它做成一个矩阵\n",
    "        self._data = np.vstack(all_data)\n",
    "        '''做了归一化看训练集准确率是否有变化-----\n",
    "        -----训练集和测试集明显提升且训练集准确率有明显变化'''\n",
    "        self._data = self._data/127.5-1  \n",
    "        '''因为值为01，结果在01之间，结果会偏行一方或者另一方而sigmoid函数在这种情况下会导致梯度消失'''\n",
    "        self._labels = np.hstack(all_label)\n",
    "    \n",
    "        print(self._data.shape)\n",
    "        print(self._labels.shape)\n",
    "        self._num_example = self._data.shape[0]\n",
    "        self._need_shuffle = need_shuffle\n",
    "        self._indicator = 0 #nimibutch塞了多少个，数据及遍历到哪个位置\n",
    "        if self._need_shuffle:\n",
    "            self._shuffle_data()\n",
    "            \n",
    "    def _shuffle_data(self):\n",
    "        #将0-self._num_example的数进行一个混合排列----数据及下标的混合排列\n",
    "        p = np.random.permutation(self._num_example)\n",
    "        self._data = self._data[p]\n",
    "        self._labels = self._labels[p]\n",
    "        \n",
    "    def next_batch(self,batch_size):\n",
    "        '''返回batch_size个样本'''\n",
    "        end_indicator = self._indicator + batch_size\n",
    "        if end_indicator > self._num_example:\n",
    "            if self._need_shuffle :\n",
    "                self._shuffle_data()\n",
    "                self._indicator = 0\n",
    "                end_indicator = batch_size\n",
    "            else:\n",
    "                raise Exception('have no more example')\n",
    "        if end_indicator > self._num_example:\n",
    "            raise Exception(\"batch size is larger than all examples\")\n",
    "            \n",
    "        batch_data = self._data[self._indicator : end_indicator]\n",
    "        batch_labels = self._labels[self._indicator : end_indicator]\n",
    "        self._indicator = end_indicator\n",
    "        return batch_data,  batch_labels\n",
    "        \n",
    "train_filanames = [os.path.join(CIFAR_DIR,'data_batch_%d'%i) for i in range(1,6)]\n",
    "test_filenames = [os.path.join(CIFAR_DIR,'test_batch')]\n",
    "\n",
    "\n",
    "#测试\n",
    "train_data = CifarData(train_filanames,True)\n",
    "test_data =  CifarData(test_filenames,True)\n",
    "# batch_data, batch_labels = train_data.next_batch(10)\n",
    "# print(batch_data)\n",
    "# print(batch_labels)\n",
    "'''----确认是可以正常工作的--------'''\n"
   ]
  },
  {
   "cell_type": "code",
   "execution_count": 3,
   "metadata": {},
   "outputs": [],
   "source": [
    "#搭建计算图\n",
    "x = tf.placeholder(tf.float32,[None,3072])  #输入的数量是不一定的\n",
    "#[None]\n",
    "y = tf.placeholder(tf.float64,[None])  #y随x变\n",
    "\n",
    "#w跟每个样本做点积，维度应该是单个样本的维度3072，一个输出---【3072，1】\n",
    "w = tf.get_variable('w',[x.get_shape()[-1],1],initializer=tf.random_normal_initializer(0,1))\n",
    "\n",
    "#b跟w的第二维输出是一样的,通常使用常量来初始化----[1,]\n",
    "b = tf.get_variable('b',[1],initializer=tf.constant_initializer(0.0))\n",
    "\n",
    "#[None,3072] * [3072,1] = [None,1]\n",
    "y_ = tf.matmul(x, w) + b\n",
    "#[None,1]\n",
    "p_y_1 = tf.nn.sigmoid(y_)  \n",
    "\n",
    "#y的shape和p_y_1的shape不同啊，不能做计算\n",
    "y_reshaped = tf.reshape(y,(-1,1))\n",
    "\n",
    "#注意，tf对类型敏感，y-teshape是float64，p_y_1是float32，不行\n",
    "y_reshaped = tf.cast(y_reshaped, tf.float32)\n",
    "\n",
    "\n",
    "loss = tf.reduce_mean(tf.square(y_reshaped - p_y_1))\n",
    "\n",
    "#bool\n",
    "predict = p_y_1 > 0.5\n",
    "\n",
    "#[1,0,1,1,0..........,1]\n",
    "correct_predicttion = tf.equal(tf.cast(predict,tf.float32),y_reshaped)\n",
    "accuracy = tf.reduce_mean(tf.cast(correct_predicttion,tf.float64))\n",
    "\n",
    "#梯度下降的方法\n",
    "with tf.name_scope('train_op'):\n",
    "    train_op = tf.train.AdamOptimizer(1e-3).minimize(loss)"
   ]
  },
  {
   "cell_type": "code",
   "execution_count": 4,
   "metadata": {},
   "outputs": [
    {
     "name": "stdout",
     "output_type": "stream",
     "text": [
      "train step : 500, loss : 0.30000, acc : 0.70000\n",
      "train step : 1000, loss : 0.14912, acc : 0.85000\n",
      "train step : 1500, loss : 0.24300, acc : 0.75000\n",
      "train step : 2000, loss : 0.15000, acc : 0.85000\n",
      "train step : 2500, loss : 0.37887, acc : 0.60000\n",
      "train step : 3000, loss : 0.20099, acc : 0.80000\n",
      "train step : 3500, loss : 0.16677, acc : 0.80000\n"
     ]
    },
    {
     "ename": "KeyboardInterrupt",
     "evalue": "",
     "output_type": "error",
     "traceback": [
      "\u001b[0;31m---------------------------------------------------------------------------\u001b[0m",
      "\u001b[0;31mKeyboardInterrupt\u001b[0m                         Traceback (most recent call last)",
      "\u001b[0;32m<ipython-input-4-7e9bc9d9935d>\u001b[0m in \u001b[0;36m<module>\u001b[0;34m\u001b[0m\n\u001b[1;32m      7\u001b[0m     \u001b[0msess\u001b[0m\u001b[0;34m.\u001b[0m\u001b[0mrun\u001b[0m\u001b[0;34m(\u001b[0m\u001b[0minit\u001b[0m\u001b[0;34m)\u001b[0m\u001b[0;34m\u001b[0m\u001b[0;34m\u001b[0m\u001b[0m\n\u001b[1;32m      8\u001b[0m     \u001b[0;32mfor\u001b[0m \u001b[0mi\u001b[0m \u001b[0;32min\u001b[0m \u001b[0mrange\u001b[0m\u001b[0;34m(\u001b[0m\u001b[0mtrain_step\u001b[0m\u001b[0;34m)\u001b[0m\u001b[0;34m:\u001b[0m\u001b[0;34m\u001b[0m\u001b[0;34m\u001b[0m\u001b[0m\n\u001b[0;32m----> 9\u001b[0;31m         \u001b[0mbatch_data\u001b[0m\u001b[0;34m,\u001b[0m\u001b[0mbatch_labels\u001b[0m \u001b[0;34m=\u001b[0m \u001b[0mtrain_data\u001b[0m\u001b[0;34m.\u001b[0m\u001b[0mnext_batch\u001b[0m\u001b[0;34m(\u001b[0m\u001b[0mbatch_size\u001b[0m\u001b[0;34m)\u001b[0m\u001b[0;34m\u001b[0m\u001b[0;34m\u001b[0m\u001b[0m\n\u001b[0m\u001b[1;32m     10\u001b[0m \u001b[0;34m\u001b[0m\u001b[0m\n\u001b[1;32m     11\u001b[0m         loss_val,acc_val, _ = sess.run([loss,accuracy,train_op],\n",
      "\u001b[0;32m<ipython-input-2-a2769bc9f7ff>\u001b[0m in \u001b[0;36mnext_batch\u001b[0;34m(self, batch_size)\u001b[0m\n\u001b[1;32m     45\u001b[0m         \u001b[0;32mif\u001b[0m \u001b[0mend_indicator\u001b[0m \u001b[0;34m>\u001b[0m \u001b[0mself\u001b[0m\u001b[0;34m.\u001b[0m\u001b[0m_num_example\u001b[0m\u001b[0;34m:\u001b[0m\u001b[0;34m\u001b[0m\u001b[0;34m\u001b[0m\u001b[0m\n\u001b[1;32m     46\u001b[0m             \u001b[0;32mif\u001b[0m \u001b[0mself\u001b[0m\u001b[0;34m.\u001b[0m\u001b[0m_need_shuffle\u001b[0m \u001b[0;34m:\u001b[0m\u001b[0;34m\u001b[0m\u001b[0;34m\u001b[0m\u001b[0m\n\u001b[0;32m---> 47\u001b[0;31m                 \u001b[0mself\u001b[0m\u001b[0;34m.\u001b[0m\u001b[0m_shuffle_data\u001b[0m\u001b[0;34m(\u001b[0m\u001b[0;34m)\u001b[0m\u001b[0;34m\u001b[0m\u001b[0;34m\u001b[0m\u001b[0m\n\u001b[0m\u001b[1;32m     48\u001b[0m                 \u001b[0mself\u001b[0m\u001b[0;34m.\u001b[0m\u001b[0m_indicator\u001b[0m \u001b[0;34m=\u001b[0m \u001b[0;36m0\u001b[0m\u001b[0;34m\u001b[0m\u001b[0;34m\u001b[0m\u001b[0m\n\u001b[1;32m     49\u001b[0m                 \u001b[0mend_indicator\u001b[0m \u001b[0;34m=\u001b[0m \u001b[0mbatch_size\u001b[0m\u001b[0;34m\u001b[0m\u001b[0;34m\u001b[0m\u001b[0m\n",
      "\u001b[0;32m<ipython-input-2-a2769bc9f7ff>\u001b[0m in \u001b[0;36m_shuffle_data\u001b[0;34m(self)\u001b[0m\n\u001b[1;32m     37\u001b[0m         \u001b[0;31m#将0-self._num_example的数进行一个混合排列----数据及下标的混合排列\u001b[0m\u001b[0;34m\u001b[0m\u001b[0;34m\u001b[0m\u001b[0;34m\u001b[0m\u001b[0m\n\u001b[1;32m     38\u001b[0m         \u001b[0mp\u001b[0m \u001b[0;34m=\u001b[0m \u001b[0mnp\u001b[0m\u001b[0;34m.\u001b[0m\u001b[0mrandom\u001b[0m\u001b[0;34m.\u001b[0m\u001b[0mpermutation\u001b[0m\u001b[0;34m(\u001b[0m\u001b[0mself\u001b[0m\u001b[0;34m.\u001b[0m\u001b[0m_num_example\u001b[0m\u001b[0;34m)\u001b[0m\u001b[0;34m\u001b[0m\u001b[0;34m\u001b[0m\u001b[0m\n\u001b[0;32m---> 39\u001b[0;31m         \u001b[0mself\u001b[0m\u001b[0;34m.\u001b[0m\u001b[0m_data\u001b[0m \u001b[0;34m=\u001b[0m \u001b[0mself\u001b[0m\u001b[0;34m.\u001b[0m\u001b[0m_data\u001b[0m\u001b[0;34m[\u001b[0m\u001b[0mp\u001b[0m\u001b[0;34m]\u001b[0m\u001b[0;34m\u001b[0m\u001b[0;34m\u001b[0m\u001b[0m\n\u001b[0m\u001b[1;32m     40\u001b[0m         \u001b[0mself\u001b[0m\u001b[0;34m.\u001b[0m\u001b[0m_labels\u001b[0m \u001b[0;34m=\u001b[0m \u001b[0mself\u001b[0m\u001b[0;34m.\u001b[0m\u001b[0m_labels\u001b[0m\u001b[0;34m[\u001b[0m\u001b[0mp\u001b[0m\u001b[0;34m]\u001b[0m\u001b[0;34m\u001b[0m\u001b[0;34m\u001b[0m\u001b[0m\n\u001b[1;32m     41\u001b[0m \u001b[0;34m\u001b[0m\u001b[0m\n",
      "\u001b[0;31mKeyboardInterrupt\u001b[0m: "
     ]
    }
   ],
   "source": [
    "#要执行这个计算图要\n",
    "init = tf.global_variables_initializer()\n",
    "batch_size = 20\n",
    "train_step = 100000\n",
    "test_step =100\n",
    "with tf.Session() as sess:\n",
    "    sess.run(init)\n",
    "    for i in range(train_step):\n",
    "        batch_data,batch_labels = train_data.next_batch(batch_size)\n",
    "        \n",
    "        loss_val,acc_val, _ = sess.run([loss,accuracy,train_op],\n",
    "                                       feed_dict={x : batch_data,\n",
    "                                                       y : batch_labels})\n",
    "        if (i+1)%500 == 0 :\n",
    "            print('train step : %d, loss : %4.5f, acc : %4.5f'%(i+1, loss_val, acc_val))\n",
    "            \n",
    "        if (i+1)%5000 == 0:\n",
    "            test_data = CifarData(test_filenames,False)\n",
    "            all_test_acc_val = []\n",
    "            for j in range(test_step):\n",
    "                \n",
    "                test_batch_data,test_batch_labels \\\n",
    "                    = test_data.next_batch(batch_size)\n",
    "                test_acc_val = sess.run(\n",
    "                    [accuracy],\n",
    "                    feed_dict={\n",
    "                        x : test_batch_data, \n",
    "                        y : test_batch_labels\n",
    "                    })\n",
    "                #记录所有test总的结果在做平均\n",
    "                all_test_acc_val.append(test_acc_val)\n",
    "            test_acc = np.mean(all_test_acc_val)\n",
    "            print('test step: %d, acc:%4.5f'%(i+1,test_acc))\n",
    "            '''结果发现测试集准确率 不变，说明没有学到什么东西\n",
    "            为解决这个问题，对self._data等进行缩放'''"
   ]
  },
  {
   "cell_type": "code",
   "execution_count": null,
   "metadata": {},
   "outputs": [],
   "source": []
  }
 ],
 "metadata": {
  "kernelspec": {
   "display_name": "Python 3",
   "language": "python",
   "name": "python3"
  },
  "language_info": {
   "codemirror_mode": {
    "name": "ipython",
    "version": 3
   },
   "file_extension": ".py",
   "mimetype": "text/x-python",
   "name": "python",
   "nbconvert_exporter": "python",
   "pygments_lexer": "ipython3",
   "version": "3.6.8"
  }
 },
 "nbformat": 4,
 "nbformat_minor": 2
}
